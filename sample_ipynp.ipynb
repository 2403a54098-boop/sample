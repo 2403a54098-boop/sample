{
  "cells": [
    {
      "cell_type": "markdown",
      "metadata": {
        "id": "view-in-github",
        "colab_type": "text"
      },
      "source": [
        "<a href=\"https://colab.research.google.com/github/2403a54098-boop/sample/blob/main/sample_ipynp.ipynb\" target=\"_parent\"><img src=\"https://colab.research.google.com/assets/colab-badge.svg\" alt=\"Open In Colab\"/></a>"
      ]
    },
    {
      "cell_type": "code",
      "source": [
        "# Access\n",
        "print(\"X coordinate:\", coordinates[0])\n",
        "\n",
        "# Loop\n",
        "for value in coordinates:\n",
        "    print(\"Coordinate value:\", value)\n"
      ],
      "metadata": {
        "id": "eV81RTLadMq3"
      },
      "execution_count": null,
      "outputs": []
    },
    {
      "cell_type": "code",
      "source": [
        "a=[\"ranadheer\",98,\"cse\"]\n",
        "print(\"list\",a)"
      ],
      "metadata": {
        "colab": {
          "base_uri": "https://localhost:8080/"
        },
        "id": "iRtDIw1mU7mK",
        "outputId": "1a6ca032-b229-4c5a-f809-f354d4a3bb40"
      },
      "execution_count": null,
      "outputs": [
        {
          "output_type": "stream",
          "name": "stdout",
          "text": [
            "list ['ranadheer', 98, 'cse']\n"
          ]
        }
      ]
    },
    {
      "cell_type": "code",
      "source": [
        "person_info = (\"Alice\", 25, \"Engineer\")\n",
        "fruits = [\"apple\", \"banana\", \"cherry\"]\n",
        "student = {\"name\": \"Bob\", \"age\": 20, \"grade\": \"A\"}\n",
        "\n",
        "print(person_info[0])\n",
        "print(fruits[0])\n",
        "print(student[\"name\"])\n",
        "\n",
        "\n",
        "\n",
        "student[\"school\"] = \"High School\"\n",
        "student[\"grade\"] = \"A+\"\n",
        "\n",
        "print(person_info)\n",
        "print(fruits)\n",
        "print(student)\n"
      ],
      "metadata": {
        "colab": {
          "base_uri": "https://localhost:8080/"
        },
        "id": "wDQXMf0YeK4r",
        "outputId": "74f079d4-0466-4d18-97b9-8a6e7a332fa9"
      },
      "execution_count": 1,
      "outputs": [
        {
          "output_type": "stream",
          "name": "stdout",
          "text": [
            "Alice\n",
            "apple\n",
            "Bob\n",
            "('Alice', 25, 'Engineer')\n",
            "['apple', 'banana', 'cherry']\n",
            "{'name': 'Bob', 'age': 20, 'grade': 'A+', 'school': 'High School'}\n"
          ]
        }
      ]
    }
  ],
  "metadata": {
    "colab": {
      "toc_visible": true,
      "provenance": [],
      "include_colab_link": true
    },
    "kernelspec": {
      "display_name": "Python 3",
      "name": "python3"
    }
  },
  "nbformat": 4,
  "nbformat_minor": 0
}