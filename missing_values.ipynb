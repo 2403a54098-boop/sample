{
  "nbformat": 4,
  "nbformat_minor": 0,
  "metadata": {
    "colab": {
      "provenance": [],
      "authorship_tag": "ABX9TyNIgjuw/GY73jfeVs9pBGpj",
      "include_colab_link": true
    },
    "kernelspec": {
      "name": "python3",
      "display_name": "Python 3"
    },
    "language_info": {
      "name": "python"
    }
  },
  "cells": [
    {
      "cell_type": "markdown",
      "metadata": {
        "id": "view-in-github",
        "colab_type": "text"
      },
      "source": [
        "<a href=\"https://colab.research.google.com/github/2403a54098-boop/sample/blob/main/missing_values.ipynb\" target=\"_parent\"><img src=\"https://colab.research.google.com/assets/colab-badge.svg\" alt=\"Open In Colab\"/></a>"
      ]
    },
    {
      "cell_type": "code",
      "execution_count": null,
      "metadata": {
        "colab": {
          "base_uri": "https://localhost:8080/"
        },
        "id": "6DMOJXcxT_0x",
        "outputId": "8b846cc1-9044-4e5c-d8ce-0abc22fa267e"
      },
      "outputs": [
        {
          "output_type": "stream",
          "name": "stdout",
          "text": [
            "   patientid   Age     Bp\n",
            "0          1  25.0  120.0\n",
            "1          2  30.0    NaN\n",
            "2          3   NaN  118.0\n",
            "3          4  40.0  140.0\n",
            "4          5  50.0    NaN\n"
          ]
        }
      ],
      "source": [
        "import pandas as pd\n",
        "\n",
        "data={\"patientid\":[1,2,3,4,5],\n",
        "      'Age':[25,30,None,40,50],\n",
        "      'Bp':[120,None,118,140,None]}\n",
        "df=pd.DataFrame(data)\n",
        "print(df)"
      ]
    },
    {
      "cell_type": "code",
      "source": [
        "df['Age'].fillna(df['Age'].mean(),inplace=True)\n",
        "df['Bp'].fillna(df['Bp'].mean(),inplace=True)\n",
        "print(df)\n"
      ],
      "metadata": {
        "colab": {
          "base_uri": "https://localhost:8080/"
        },
        "id": "gTXpwCHlV5EM",
        "outputId": "57bba889-385f-4092-a8fe-07ff1812eaca"
      },
      "execution_count": null,
      "outputs": [
        {
          "output_type": "stream",
          "name": "stdout",
          "text": [
            "   patientid    Age     Bp\n",
            "0          1  25.00  120.0\n",
            "1          2  30.00  126.0\n",
            "2          3  36.25  118.0\n",
            "3          4  40.00  140.0\n",
            "4          5  50.00  126.0\n"
          ]
        },
        {
          "output_type": "stream",
          "name": "stderr",
          "text": [
            "/tmp/ipython-input-4101700038.py:1: FutureWarning: A value is trying to be set on a copy of a DataFrame or Series through chained assignment using an inplace method.\n",
            "The behavior will change in pandas 3.0. This inplace method will never work because the intermediate object on which we are setting values always behaves as a copy.\n",
            "\n",
            "For example, when doing 'df[col].method(value, inplace=True)', try using 'df.method({col: value}, inplace=True)' or df[col] = df[col].method(value) instead, to perform the operation inplace on the original object.\n",
            "\n",
            "\n",
            "  df['Age'].fillna(df['Age'].mean(),inplace=True)\n",
            "/tmp/ipython-input-4101700038.py:2: FutureWarning: A value is trying to be set on a copy of a DataFrame or Series through chained assignment using an inplace method.\n",
            "The behavior will change in pandas 3.0. This inplace method will never work because the intermediate object on which we are setting values always behaves as a copy.\n",
            "\n",
            "For example, when doing 'df[col].method(value, inplace=True)', try using 'df.method({col: value}, inplace=True)' or df[col] = df[col].method(value) instead, to perform the operation inplace on the original object.\n",
            "\n",
            "\n",
            "  df['Bp'].fillna(df['Bp'].mean(),inplace=True)\n"
          ]
        }
      ]
    },
    {
      "cell_type": "code",
      "source": [
        "import pandas as pd\n",
        "data={'Bp':[120,None,None,125,None,130]}\n",
        "df=pd.DataFrame(data)\n",
        "df['Bp'].fillna(method='ffill',inplace=True)\n",
        "print(df)"
      ],
      "metadata": {
        "colab": {
          "base_uri": "https://localhost:8080/"
        },
        "id": "5Esw6iMKXeIu",
        "outputId": "410717aa-0419-4ff7-ce8e-35ab2590a072"
      },
      "execution_count": null,
      "outputs": [
        {
          "output_type": "stream",
          "name": "stdout",
          "text": [
            "      Bp\n",
            "0  120.0\n",
            "1  120.0\n",
            "2  120.0\n",
            "3  125.0\n",
            "4  125.0\n",
            "5  130.0\n"
          ]
        },
        {
          "output_type": "stream",
          "name": "stderr",
          "text": [
            "/tmp/ipython-input-638838935.py:4: FutureWarning: A value is trying to be set on a copy of a DataFrame or Series through chained assignment using an inplace method.\n",
            "The behavior will change in pandas 3.0. This inplace method will never work because the intermediate object on which we are setting values always behaves as a copy.\n",
            "\n",
            "For example, when doing 'df[col].method(value, inplace=True)', try using 'df.method({col: value}, inplace=True)' or df[col] = df[col].method(value) instead, to perform the operation inplace on the original object.\n",
            "\n",
            "\n",
            "  df['Bp'].fillna(method='ffill',inplace=True)\n",
            "/tmp/ipython-input-638838935.py:4: FutureWarning: Series.fillna with 'method' is deprecated and will raise in a future version. Use obj.ffill() or obj.bfill() instead.\n",
            "  df['Bp'].fillna(method='ffill',inplace=True)\n"
          ]
        }
      ]
    },
    {
      "cell_type": "code",
      "source": [
        "sales = pd.DataFrame({\n",
        "    'OrderID':[101,102,103,101],\n",
        "    'product':['mobile','laptop','tablet','mobile'],\n",
        "    'amount':[20000,30000,40000,20000]\n",
        "})\n",
        "print(sales.duplicated())\n",
        "sales_df=sales.drop_duplicates()\n",
        "print(sales_df)\n",
        "\n"
      ],
      "metadata": {
        "colab": {
          "base_uri": "https://localhost:8080/"
        },
        "id": "gNONippDZUrv",
        "outputId": "33b70378-666e-482d-9080-e698029df875"
      },
      "execution_count": null,
      "outputs": [
        {
          "output_type": "stream",
          "name": "stdout",
          "text": [
            "0    False\n",
            "1    False\n",
            "2    False\n",
            "3     True\n",
            "dtype: bool\n",
            "   OrderID product  amount\n",
            "0      101  mobile   20000\n",
            "1      102  laptop   30000\n",
            "2      103  tablet   40000\n"
          ]
        }
      ]
    },
    {
      "cell_type": "code",
      "source": [
        "df4=df.dropna()\n",
        "print(df4)"
      ],
      "metadata": {
        "colab": {
          "base_uri": "https://localhost:8080/"
        },
        "id": "BVkGRXV7fwgo",
        "outputId": "9a068ad9-564f-4c5e-e6c3-eb728c2598b0"
      },
      "execution_count": null,
      "outputs": [
        {
          "output_type": "stream",
          "name": "stdout",
          "text": [
            "      Bp\n",
            "0  120.0\n",
            "1  120.0\n",
            "2  120.0\n",
            "3  125.0\n",
            "4  125.0\n",
            "5  130.0\n"
          ]
        }
      ]
    },
    {
      "cell_type": "code",
      "source": [],
      "metadata": {
        "id": "-FYwVX9FofL0"
      },
      "execution_count": null,
      "outputs": []
    }
  ]
}